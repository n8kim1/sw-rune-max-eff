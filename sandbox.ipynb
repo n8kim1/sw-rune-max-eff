{
 "cells": [
  {
   "cell_type": "code",
   "execution_count": 1,
   "metadata": {},
   "outputs": [],
   "source": [
    "# TODO account for main stat of 5-star\n",
    "# nbd cuz false positives (of good runes) are unlikely:\n",
    "# they're dragged down by low subs anyways"
   ]
  },
  {
   "cell_type": "code",
   "execution_count": 2,
   "metadata": {},
   "outputs": [],
   "source": [
    "import numpy as np\n",
    "import pandas as pd"
   ]
  },
  {
   "cell_type": "code",
   "execution_count": 3,
   "metadata": {},
   "outputs": [],
   "source": [
    "weights = {'sub_acc': 1, 'sub_res': 1, 'sub_atkp': 1, 'sub_atkf': 0.5, 'sub_defp': 1, 'sub_deff': 0.5, 'sub_hpp': 1, 'sub_hpf': 0.5, 'sub_spd': 2, 'sub_crate': 1, 'sub_cdmg': 1}\n",
    "weights_off = {'sub_acc': 1, 'sub_res': 0.5, 'sub_atkp': 1, 'sub_atkf': 0.5, 'sub_defp': 0.5, 'sub_deff': 0.25, 'sub_hpp': 0.5, 'sub_hpf': 0.25, 'sub_spd': 2, 'sub_crate': 1, 'sub_cdmg': 1}\n",
    "weights_def = {'sub_acc': 1, 'sub_res': 1, 'sub_atkp': 1, 'sub_atkf': 0.5, 'sub_defp': 1, 'sub_deff': 0.5, 'sub_hpp': 1, 'sub_hpf': 0.5, 'sub_spd': 2, 'sub_crate': 1, 'sub_cdmg': 1}"
   ]
  },
  {
   "cell_type": "code",
   "execution_count": 4,
   "metadata": {},
   "outputs": [],
   "source": [
    "df = pd.read_csv('runes-data.csv', sep=';')"
   ]
  },
  {
   "cell_type": "code",
   "execution_count": 5,
   "metadata": {},
   "outputs": [],
   "source": [
    "# Clean entries\n",
    "df = df.replace('-', np.nan)"
   ]
  },
  {
   "cell_type": "code",
   "execution_count": 6,
   "metadata": {},
   "outputs": [],
   "source": [
    "# For rune counting, drop Tricaru Icaru runes\n",
    "df = df[~(df['monster_n'].str.contains('Icaru'))]"
   ]
  },
  {
   "cell_type": "code",
   "execution_count": 7,
   "metadata": {},
   "outputs": [
    {
     "name": "stdout",
     "output_type": "stream",
     "text": [
      "343\n"
     ]
    },
    {
     "data": {
      "text/plain": [
       "set\n",
       "Violent          110\n",
       "Swift             49\n",
       "Will              37\n",
       "Vampire           24\n",
       "Blade             19\n",
       "Energy            17\n",
       "Fatal             16\n",
       "Nemesis            9\n",
       "Rage               9\n",
       "Fight              8\n",
       "Despair            8\n",
       "Guard              8\n",
       "Revenge            8\n",
       "Focus              8\n",
       "Shield             6\n",
       "Destroy            4\n",
       "Enhance            1\n",
       "Endure             1\n",
       "Determination      1\n",
       "dtype: int64"
      ]
     },
     "execution_count": 7,
     "metadata": {},
     "output_type": "execute_result"
    }
   ],
   "source": [
    "# Count rune sets at a glance\n",
    "# Good for adjusting cutoffs\n",
    "df_not_inventory = df[~(df['monster_n'] == 'Inventory')]\n",
    "print(len(df_not_inventory))\n",
    "df_not_inventory.value_counts('set')"
   ]
  },
  {
   "cell_type": "code",
   "execution_count": 8,
   "metadata": {},
   "outputs": [],
   "source": [
    "# Clean columns\n",
    "df = df.drop(columns=['s1_t',\t's1_v',\t's1_data',\n",
    "                      's2_t', 's2_v', 's2_data',\n",
    "                      's3_t',\t's3_v',\t's3_data',\n",
    "                      's4_t',\t's4_v',\t's4_data',\n",
    "                      'DT_RowId',\t'id',\t'unique_id',\t'monster',\t'originID', 'originName', 'efficiency', 'max_efficiency', 'locked'])\n",
    "\n",
    "cols_original_clean = df.columns"
   ]
  },
  {
   "cell_type": "code",
   "execution_count": 9,
   "metadata": {},
   "outputs": [],
   "source": [
    "# convert inherent stats to eff values, 0-1.\n",
    "# keep separate because these can't be increased like normal stats\n",
    "\n",
    "inherent_label_to_sub_label = {'ACC': 'sub_acc', \"RES\": \"sub_res\", \"ATK%\": \"sub_atkp\", \"ATK flat\": \"sub_atkf\",  \"DEF%\": \"sub_defp\", \"DEF flat\": \"sub_deff\",  \"HP%\": \"sub_hpp\", \"HP flat\": \"sub_hpf\", \"SPD\": \"sub_spd\", \"CRate\": \"sub_crate\", \"CDmg\": \"sub_cdmg\"}\n",
    "\n",
    "df['i_t_clean'] = df['i_t'].replace(inherent_label_to_sub_label)\n",
    "\n",
    "substats_max = {'sub_acc':8, 'sub_res': 8, 'sub_atkp': 8, 'sub_atkf': 20, 'sub_defp': 8, 'sub_deff': 20, 'sub_hpp': 8, 'sub_hpf': 375, 'sub_spd': 6, 'sub_crate': 6, 'sub_cdmg': 7}\n",
    "\n",
    "df['inh_norm'] = df['i_v'] / (df['i_t_clean'].replace(substats_max)) * (df['i_t_clean'].replace(weights)) "
   ]
  },
  {
   "cell_type": "code",
   "execution_count": 10,
   "metadata": {},
   "outputs": [],
   "source": [
    "# convert substats to eff values, 0-5\n",
    "substats_max = {'sub_acc':8, 'sub_res': 8, 'sub_atkp': 8, 'sub_atkf': 20, 'sub_defp': 8, 'sub_deff': 20, 'sub_hpp': 8, 'sub_hpf': 375, 'sub_spd': 6, 'sub_crate': 6, 'sub_cdmg': 7}\n",
    "\n",
    "for label in substats_max:\n",
    "    df[label] = pd.to_numeric(df[label])\n",
    "\n",
    "for label in substats_max:\n",
    "    df[label+'_norm'] = df[label]/substats_max[label]*weights[label]\n"
   ]
  },
  {
   "cell_type": "code",
   "execution_count": 11,
   "metadata": {},
   "outputs": [],
   "source": [
    "#specify the columns to sum\n",
    "cols = [str(label+'_norm') for label in substats_max]\n",
    "cols.append('inh_norm')\n",
    "#find sum of columns specified \n",
    "df['tot_sum_norm'] = df[cols].sum(axis=1)"
   ]
  },
  {
   "cell_type": "code",
   "execution_count": 12,
   "metadata": {},
   "outputs": [],
   "source": [
    "df['num_powerup_left'] = np.maximum(0, np.subtract(4, np.floor_divide(df['level'], 3)))\n",
    "df['num_powerup_used'] = np.minimum(4, np.floor_divide(df['level'], 3))\n",
    "\n",
    "\n",
    "df['num_powerup_incsub'] = df['quality'].map({'Unknown': 0, 'Rare': 2, 'Hero': 3, 'Legend': 4})\n",
    "\n",
    "df['num_powerup_incsub_left'] = np.maximum(np.subtract(df['num_powerup_incsub'], df['num_powerup_used']) , 0)\n",
    "df['num_powerup_newsub_left'] = np.subtract(df['num_powerup_left'], df['num_powerup_incsub_left'] )"
   ]
  },
  {
   "cell_type": "code",
   "execution_count": 13,
   "metadata": {},
   "outputs": [],
   "source": [
    "# From increasing current substats:\n",
    "# if spd is an increasable substat, then assume all rolls go there\n",
    "# otherwise assume all rolls go to not-good stats\n",
    "# TODO this roll could possibly only go to a bad stat (as per norm), not a good one. account for this\n",
    "\n",
    "df['sub_inc_max_norm'] = (df['num_powerup_incsub_left']*2).where(~df['sub_spd'].isna(), df['num_powerup_incsub_left'])\n",
    "\n",
    "# assume these are all going to bad stats.\n",
    "# (even if speed is rollable, probability of going to spd is...low and not worth)\n",
    "# TODO consider like max vs expected. this straddles the line somewhere\n",
    "df['sub_new_max_norm'] = df['num_powerup_newsub_left']"
   ]
  },
  {
   "cell_type": "code",
   "execution_count": 14,
   "metadata": {},
   "outputs": [],
   "source": [
    "# and now sum for the \"max\" roll eff\n",
    "cols = ['tot_sum_norm', 'sub_inc_max_norm', 'sub_new_max_norm']\n",
    "\n",
    "df['tot_max_norm'] = df[cols].sum(axis=1)"
   ]
  },
  {
   "cell_type": "code",
   "execution_count": 15,
   "metadata": {},
   "outputs": [],
   "source": [
    "# worst cases:\n",
    "# TODO due to the chance of flat rolls, this is lower.\n",
    "# also like account for inc rolls can only be present stats; new rolls can only be one of each (not double-up into bad roll)\n",
    "df['sub_inc_min_norm'] = df['num_powerup_incsub_left'] * 0.5 # (0.5 is worstcase eff from a roll)\n",
    "df['sub_new_min_norm'] = df['num_powerup_newsub_left'] * 0.5\n",
    "cols = ['tot_sum_norm', 'sub_inc_min_norm', 'sub_new_min_norm']\n",
    "df['tot_min_norm'] = df[cols].sum(axis=1)"
   ]
  },
  {
   "cell_type": "code",
   "execution_count": 16,
   "metadata": {},
   "outputs": [
    {
     "name": "stdout",
     "output_type": "stream",
     "text": [
      "{'Violent': 'S', 'Swift': 'A', 'Will': 'A', 'Blade': 'C', 'Fatal': 'B', 'Rage': 'B', 'Vampire': 'B', 'Focus': 'B', 'Shield': 'B', 'Nemesis': 'B', 'Despair': 'B', 'Revenge': 'B', 'Destroy': 'B', 'Energy': 'C', 'Guard': 'C', 'Endure': 'C', 'Fight': 'C', 'Determination': 'C', 'Enhance': 'C', 'Accuracy': 'C', 'Tolerance': 'C'}\n"
     ]
    }
   ],
   "source": [
    "# for ease in using the outputted sheet\n",
    "df['is_odd'] = df['slot'].apply(lambda x: (x%2!=0))\n",
    "\n",
    "TIERS_TO_SETS = {'S': ['Violent'], 'A': ['Swift', 'Will'], \n",
    "'B': ['Blade', 'Fatal', 'Rage', 'Vampire', 'Focus', 'Shield', 'Nemesis', 'Despair', 'Revenge', 'Destroy'],\n",
    "'C': ['Energy', 'Guard', 'Blade', 'Endure', 'Fight', 'Determination', 'Enhance', 'Accuracy', 'Tolerance']}\n",
    "\n",
    "SETS_TO_TIERS = dict()\n",
    "for tier in TIERS_TO_SETS:\n",
    "    for set in TIERS_TO_SETS[tier]:\n",
    "        SETS_TO_TIERS[set] = tier\n",
    "print(SETS_TO_TIERS)\n",
    "\n",
    "df['tier'] = df['set'].apply(lambda x: SETS_TO_TIERS[x])\n",
    "\n",
    "# To scale to a normalized 0-to-1 scale\n",
    "# df['tot_max_norm'] = (df['tot_max_norm']/9.round(3)"
   ]
  },
  {
   "cell_type": "code",
   "execution_count": 17,
   "metadata": {},
   "outputs": [
    {
     "name": "stdout",
     "output_type": "stream",
     "text": [
      "S True\n",
      "97 320 223\n",
      "7\n",
      "S False\n",
      "83 606 523\n",
      "7\n",
      "A True\n",
      "119 250 131\n",
      "7\n",
      "A False\n",
      "112 467 355\n",
      "7\n",
      "B True\n",
      "267 320 53\n",
      "7\n",
      "B False\n",
      "135 559 424\n",
      "7\n",
      "C True\n",
      "142 110 -32\n",
      "7\n",
      "C False\n",
      "79 159 80\n",
      "7\n"
     ]
    }
   ],
   "source": [
    "df['flag'] = False\n",
    "\n",
    "\n",
    "GOAL_TOTAL = 3000 # start lower, but steadily raise to 3000.\n",
    "TIER_RATIOS = {'S': 0.32, 'A': 0.25, 'B': 0.32, 'C': 0.11}\n",
    "IS_ODD_RATIO = 1/3\n",
    "CUTOFF_FACTOR = 0.8 # all held runes can _potentially_ be better than the n-th best rune. \n",
    "# where is this cutoff? where do you draw the line? by some scale:\n",
    "# what is n divided by the number of total runes of class?\n",
    "# Note that if scaling_factor=1, then you will hold more runes than the goal_total:\n",
    "# you'll hold everything already better, and potentially better\n",
    "# Fine-tune this as needed, something like 0.8-0.9 works well\n",
    "# **Lower factor means holding less runes. But saves mana (since more selective w powerups)**\n",
    "# SCALE SUCH THAT MANA STONES ARE MANAGEABLE \n",
    "\n",
    "GLOBAL_EFF_CUTOFF = 7 # any non-spd rune, less than this max eff are sold, regardless of the goal totals etc\n",
    "# To prevent flooding inventory with runes that, even if they're _relatively_ good enough,\n",
    "# would still be easily, quickly sold by obtaining better runes\n",
    "\n",
    "\n",
    "for tier in ('S', 'A', 'B', 'C'):\n",
    "    for is_odd in (True, False):\n",
    "        print(tier, is_odd)\n",
    "\n",
    "        goal_freq = int(GOAL_TOTAL * TIER_RATIOS[tier] * (IS_ODD_RATIO if is_odd else 1-IS_ODD_RATIO))\n",
    "        cutoff_freq = int(goal_freq * CUTOFF_FACTOR)\n",
    "\n",
    "        mask_subset = df['is_odd']\n",
    "        if not is_odd:\n",
    "            mask_subset = ~mask_subset\n",
    "        mask_subset = mask_subset & (df['tier']==tier)\n",
    "\n",
    "        # Figure out how many runes to sell: \n",
    "        # this is tricky, as we want to keep _all_ speed runes \n",
    "        # (due to quirks w efficiency, importance of speed, etc)\n",
    "        if not is_odd:\n",
    "            count_spd = sum(mask_subset & (df['m_t'] == 'SPD'))\n",
    "            cutoff_freq -= count_spd\n",
    "            goal_freq -= count_spd\n",
    "            mask_subset = mask_subset & (df['m_t'] != 'SPD')\n",
    "\n",
    "        df_subset = df[mask_subset]\n",
    "        df_subset = df_subset.sort_values(by=['tot_min_norm'], ascending=False)\n",
    "\n",
    "        print(len(df_subset), goal_freq, goal_freq-len(df_subset))\n",
    "        # Calc cutoff, based on rune counts, and \"n-th\" best rune\n",
    "        if len(df_subset) < cutoff_freq:\n",
    "            # then want to keep everything. can't sell runes below the n'th-best if there aren't n total \n",
    "            # (effectively mark this by setting the \"sell if below\" threshold to 0)\n",
    "            eff_cutoff = 0\n",
    "        else:\n",
    "            rune_cutoff = df_subset.iloc[cutoff_freq-1] # change to cutoff_freq\n",
    "            eff_cutoff = rune_cutoff.tot_sum_norm\n",
    "\n",
    "        # if eff cutoff less than global eff cutoff,\n",
    "        # then enforce global instead\n",
    "        if eff_cutoff < GLOBAL_EFF_CUTOFF:\n",
    "            eff_cutoff = GLOBAL_EFF_CUTOFF\n",
    "        print(eff_cutoff)\n",
    "\n",
    "        # flag runes in the subset, below the cutoff\n",
    "        # keep previous runes too\n",
    "        df['flag'] = (mask_subset & (df['tot_max_norm'] < eff_cutoff)) | df['flag']\n"
   ]
  },
  {
   "cell_type": "markdown",
   "metadata": {},
   "source": [
    "## don't sell +15, or non-inventory\n",
    "\n",
    "(sell only if not-15, and if in inventory)"
   ]
  },
  {
   "cell_type": "code",
   "execution_count": 18,
   "metadata": {},
   "outputs": [],
   "source": [
    "df['sell'] = df['flag']\n",
    "df['sell'] = df['sell'] & ((df['monster_n'] == 'Inventory'))\n",
    "df['sell'] = df['sell'] & ((df['level'] != 15))"
   ]
  },
  {
   "cell_type": "markdown",
   "metadata": {},
   "source": [
    "# Export: format data"
   ]
  },
  {
   "cell_type": "code",
   "execution_count": 19,
   "metadata": {},
   "outputs": [],
   "source": [
    "cols_export = cols_original_clean\n",
    "cols_export = cols_export.append(pd.Index(['tot_sum_norm', 'tot_min_norm', 'tot_max_norm', 'is_odd', 'tier', 'num_powerup_incsub_left', 'sell']))\n",
    "df_export = df[cols_export]"
   ]
  },
  {
   "cell_type": "code",
   "execution_count": 20,
   "metadata": {},
   "outputs": [],
   "source": [
    "df_export = df_export.sort_values(['set', 'grade', 'slot'], ascending=[True, False, True])\n",
    "# df_export = df_export.sort_values('grade', ascending=False)\n",
    "# df_export = df_export.sort_values('set')"
   ]
  },
  {
   "cell_type": "code",
   "execution_count": 21,
   "metadata": {},
   "outputs": [],
   "source": [
    "# using datetime module\n",
    "import datetime\n",
    "  \n",
    "# ct stores current time\n",
    "ct = datetime.datetime.now()\n",
    "ct = int(ct.timestamp())\n",
    "df_export.to_csv(f'runes-data-out-{str(ct)}.csv', sep='\\t')"
   ]
  },
  {
   "cell_type": "code",
   "execution_count": 22,
   "metadata": {},
   "outputs": [
    {
     "name": "stdout",
     "output_type": "stream",
     "text": [
      "      monster_n  ancient      set  slot  grade  level       m_t  m_v      i_t  \\\n",
      "1204  Inventory    False    Blade     4      6      0      CDmg   11      ACC   \n",
      "1234  Inventory    False  Despair     1      6      0  ATK flat   22  HP flat   \n",
      "1235  Inventory    False  Despair     3      6      0  DEF flat   22     DEF%   \n",
      "1236  Inventory    False  Despair     5      6      0   HP flat  360      NaN   \n",
      "1237  Inventory    False  Despair     5      6      0   HP flat  360     DEF%   \n",
      "...         ...      ...      ...   ...    ...    ...       ...  ...      ...   \n",
      "1005  Inventory    False     Will     2      5      0       HP%    8      NaN   \n",
      "589   Inventory    False     Will     4      5     12      CDmg   48      NaN   \n",
      "1020  Inventory    False     Will     4      5      0       HP%    8     CDmg   \n",
      "620   Inventory     True     Will     6      5      9      DEF%   29      SPD   \n",
      "1030  Inventory    False     Will     6      5      0      DEF%    8      HP%   \n",
      "\n",
      "      i_v  ...  sub_spd  sub_crate  quality  tot_sum_norm  tot_min_norm  \\\n",
      "1204    5  ...      NaN        NaN     Hero      1.750000      3.750000   \n",
      "1234  238  ...      NaN        NaN     Rare      2.174476      4.174476   \n",
      "1235    6  ...      NaN        NaN     Rare      1.821429      3.821429   \n",
      "1236    0  ...      NaN        NaN     Hero      2.375000      4.375000   \n",
      "1237    5  ...      NaN        4.0     Hero      2.666667      4.666667   \n",
      "...   ...  ...      ...        ...      ...           ...           ...   \n",
      "1005    0  ...      NaN        NaN     Hero      1.421429      3.421429   \n",
      "589     0  ...      5.0        NaN   Legend      5.809667      5.809667   \n",
      "1020    4  ...      NaN        3.0     Hero      1.896429      3.896429   \n",
      "620     4  ...      NaN       10.0     Rare      5.322667      5.822667   \n",
      "1030    5  ...      NaN        NaN     Rare      2.125000      4.125000   \n",
      "\n",
      "      tot_max_norm  is_odd  tier  num_powerup_incsub_left  sell  \n",
      "1204      5.750000   False     C                      3.0  True  \n",
      "1234      6.174476    True     B                      2.0  True  \n",
      "1235      5.821429    True     B                      2.0  True  \n",
      "1236      6.375000    True     B                      3.0  True  \n",
      "1237      6.666667    True     B                      3.0  True  \n",
      "...            ...     ...   ...                      ...   ...  \n",
      "1005      5.421429   False     A                      3.0  True  \n",
      "589       5.809667   False     A                      0.0  True  \n",
      "1020      5.896429   False     A                      3.0  True  \n",
      "620       6.322667   False     A                      0.0  True  \n",
      "1030      6.125000   False     A                      2.0  True  \n",
      "\n",
      "[107 rows x 29 columns]\n"
     ]
    }
   ],
   "source": [
    "df_export_to_sell = df_export[df_export['sell']]\n",
    "print(df_export_to_sell)\n",
    "df_export_to_sell.to_csv(f'runes-data-sell-{str(ct)}.csv', sep='\\t')"
   ]
  },
  {
   "cell_type": "code",
   "execution_count": 23,
   "metadata": {},
   "outputs": [],
   "source": [
    "# TODO custom sort keys??\n",
    "# TODO col of \"reapp friendly\""
   ]
  }
 ],
 "metadata": {
  "kernelspec": {
   "display_name": "Python 3.10.4 ('6s079')",
   "language": "python",
   "name": "python3"
  },
  "language_info": {
   "codemirror_mode": {
    "name": "ipython",
    "version": 3
   },
   "file_extension": ".py",
   "mimetype": "text/x-python",
   "name": "python",
   "nbconvert_exporter": "python",
   "pygments_lexer": "ipython3",
   "version": "3.10.4"
  },
  "orig_nbformat": 4,
  "vscode": {
   "interpreter": {
    "hash": "98e05c05992e930807fe788f9aae80420ee99fb8a9e4a0ca0e84103c9a329069"
   }
  }
 },
 "nbformat": 4,
 "nbformat_minor": 2
}
