{
 "cells": [
  {
   "cell_type": "code",
   "execution_count": 51,
   "metadata": {},
   "outputs": [],
   "source": [
    "# TODO account for main stat of 5-star\n",
    "# nbd cuz false positives (of good runes) are unlikely:\n",
    "# they're dragged down by low subs anyways\n",
    "# TODO should have equal 1/3/5 and questionably equal 4/6?"
   ]
  },
  {
   "cell_type": "code",
   "execution_count": 52,
   "metadata": {},
   "outputs": [],
   "source": [
    "# Config\n",
    "\n",
    "IS_FRR = True\n",
    "\n",
    "TIERS_TO_SETS = {'S': ['Violent'], 'A': ['Swift', 'Will'], \n",
    "'B+': ['Fatal', 'Rage', 'Vampire', 'Despair'],\n",
    "'B-': ['Blade',  'Focus', 'Shield', 'Nemesis', 'Revenge', 'Destroy'],\n",
    "'C': ['Energy', 'Guard', 'Endure', 'Fight', 'Determination', 'Enhance', 'Accuracy', 'Tolerance']}\n",
    "\n",
    "GOAL_TOTAL = 3000 # start lower, but steadily raise to 3000.\n",
    "TIER_RATIOS = {'S': 0.26, 'A': 0.26, 'B+': 0.21, 'B-': 0.17, 'C': 0.10}\n",
    "IS_ODD_RATIO = 1/3\n",
    "CUTOFF_FACTOR = 0.72 # all held runes can _potentially_ be better than the n-th best rune. \n",
    "# where is this cutoff? where do you draw the line? by some scale:\n",
    "# what is n divided by the number of total runes of class?\n",
    "# Higher factor means that you hold more runes, \n",
    "# Lower factor means holding less runes, thus less flexibility but saves mana (more selective and so less to powerup)\n",
    "# (Note that if scaling_factor=1, then you will hold more runes than the goal_total:\n",
    "# you'll hold everything already better, and potentially better)\n",
    "# Fine-tune as needed\n",
    "# A big guiding factor:\n",
    "# ADJUST SUCH THAT MANA STONES ARE MANAGEABLE \n",
    "# ADJUST SUCH THAT ACTUAL HELD RUNE COUNTS / FREQS MATCH GOAL COUNTS / FREQS\n",
    "\n",
    "GLOBAL_EFF_CUTOFF = 7 # any non-spd rune, less than this max eff are sold, regardless of the goal totals etc\n",
    "# To prevent flooding inventory with runes that, even if they're _relatively_ good enough,\n",
    "# would still be easily, quickly sold by obtaining better runes\n",
    "\n",
    "# Compute proportion of quantity that slots should take.\n",
    "# !! DOES NOT INCLUDE SPD RUNES\n",
    "# Note: balance btwn 2 (non-spd) vs 4 and 6 is based on empirical data\n",
    "# adjust as needed\n",
    "SLOT_RATIOS = {1: 1/9, 3: 1/9, 5: 1/9, 2: 0.22, 4: 0.39, 6: 0.39}"
   ]
  },
  {
   "cell_type": "code",
   "execution_count": 53,
   "metadata": {},
   "outputs": [],
   "source": [
    "import numpy as np\n",
    "import pandas as pd"
   ]
  },
  {
   "cell_type": "code",
   "execution_count": 54,
   "metadata": {},
   "outputs": [],
   "source": [
    "weights = {'sub_acc': 1, 'sub_res': 1, 'sub_atkp': 1, 'sub_atkf': 0.5, 'sub_defp': 1, 'sub_deff': 0.5, 'sub_hpp': 1, 'sub_hpf': 0.5, 'sub_spd': 2, 'sub_crate': 1, 'sub_cdmg': 1}\n",
    "weights_off = {'sub_acc': 1, 'sub_res': 0.5, 'sub_atkp': 1, 'sub_atkf': 0.5, 'sub_defp': 0.5, 'sub_deff': 0.25, 'sub_hpp': 0.5, 'sub_hpf': 0.25, 'sub_spd': 2, 'sub_crate': 1, 'sub_cdmg': 1}\n",
    "weights_def = {'sub_acc': 1, 'sub_res': 1, 'sub_atkp': 1, 'sub_atkf': 0.5, 'sub_defp': 1, 'sub_deff': 0.5, 'sub_hpp': 1, 'sub_hpf': 0.5, 'sub_spd': 2, 'sub_crate': 1, 'sub_cdmg': 1}"
   ]
  },
  {
   "cell_type": "code",
   "execution_count": 55,
   "metadata": {},
   "outputs": [],
   "source": [
    "df = pd.read_csv('runes-data.csv', sep=';')"
   ]
  },
  {
   "cell_type": "code",
   "execution_count": 56,
   "metadata": {},
   "outputs": [],
   "source": [
    "# Clean entries\n",
    "df = df.replace('-', np.nan)"
   ]
  },
  {
   "cell_type": "code",
   "execution_count": 57,
   "metadata": {},
   "outputs": [],
   "source": [
    "# For rune counting, drop Tricaru Icaru runes\n",
    "df = df[~(df['monster_n'].str.contains('Icaru'))]"
   ]
  },
  {
   "cell_type": "code",
   "execution_count": 58,
   "metadata": {},
   "outputs": [
    {
     "name": "stdout",
     "output_type": "stream",
     "text": [
      "599\n"
     ]
    },
    {
     "data": {
      "text/plain": [
       "set\n",
       "Violent          148\n",
       "Swift            100\n",
       "Will              55\n",
       "Fatal             40\n",
       "Vampire           36\n",
       "Despair           31\n",
       "Rage              28\n",
       "Blade             24\n",
       "Revenge           24\n",
       "Energy            20\n",
       "Focus             18\n",
       "Destroy           16\n",
       "Guard             15\n",
       "Nemesis           15\n",
       "Shield            11\n",
       "Endure             6\n",
       "Fight              5\n",
       "Tolerance          3\n",
       "Enhance            2\n",
       "Determination      1\n",
       "Accuracy           1\n",
       "dtype: int64"
      ]
     },
     "execution_count": 58,
     "metadata": {},
     "output_type": "execute_result"
    }
   ],
   "source": [
    "# Count rune sets at a glance\n",
    "# Good for adjusting cutoffs\n",
    "df_not_inventory = df[~(df['monster_n'] == 'Inventory')]\n",
    "print(len(df_not_inventory))\n",
    "df_not_inventory.value_counts('set')"
   ]
  },
  {
   "cell_type": "code",
   "execution_count": 59,
   "metadata": {},
   "outputs": [],
   "source": [
    "# Clean columns\n",
    "df = df.drop(columns=['s1_t',\t's1_v',\t's1_data',\n",
    "                      's2_t', 's2_v', 's2_data',\n",
    "                      's3_t',\t's3_v',\t's3_data',\n",
    "                      's4_t',\t's4_v',\t's4_data',\n",
    "                      'DT_RowId',\t'id',\t'unique_id',\t'monster',\t'originID', 'originName', 'efficiency', 'max_efficiency', 'locked'])\n",
    "\n",
    "cols_original_clean = df.columns"
   ]
  },
  {
   "cell_type": "code",
   "execution_count": 60,
   "metadata": {},
   "outputs": [],
   "source": [
    "# convert inherent stats to eff values, 0-1.\n",
    "# keep separate because these can't be increased like normal stats\n",
    "\n",
    "inherent_label_to_sub_label = {'ACC': 'sub_acc', \"RES\": \"sub_res\", \"ATK%\": \"sub_atkp\", \"ATK flat\": \"sub_atkf\",  \"DEF%\": \"sub_defp\", \"DEF flat\": \"sub_deff\",  \"HP%\": \"sub_hpp\", \"HP flat\": \"sub_hpf\", \"SPD\": \"sub_spd\", \"CRate\": \"sub_crate\", \"CDmg\": \"sub_cdmg\"}\n",
    "\n",
    "df['i_t_clean'] = df['i_t'].replace(inherent_label_to_sub_label)\n",
    "\n",
    "substats_max = {'sub_acc':8, 'sub_res': 8, 'sub_atkp': 8, 'sub_atkf': 20, 'sub_defp': 8, 'sub_deff': 20, 'sub_hpp': 8, 'sub_hpf': 375, 'sub_spd': 6, 'sub_crate': 6, 'sub_cdmg': 7}\n",
    "\n",
    "df['inh_norm'] = df['i_v'] / (df['i_t_clean'].replace(substats_max)) * (df['i_t_clean'].replace(weights)) "
   ]
  },
  {
   "cell_type": "code",
   "execution_count": 61,
   "metadata": {},
   "outputs": [],
   "source": [
    "# convert substats to eff values, 0-5\n",
    "for label in substats_max:\n",
    "    df[label] = pd.to_numeric(df[label])\n",
    "\n",
    "for label in substats_max:\n",
    "    df[label+'_norm'] = df[label]/substats_max[label]*weights[label]\n"
   ]
  },
  {
   "cell_type": "code",
   "execution_count": 62,
   "metadata": {},
   "outputs": [],
   "source": [
    "#specify the columns to sum\n",
    "cols = [str(label+'_norm') for label in substats_max]\n",
    "cols.append('inh_norm')\n",
    "#find sum of columns specified \n",
    "df['tot_sum_norm'] = df[cols].sum(axis=1)"
   ]
  },
  {
   "cell_type": "code",
   "execution_count": 63,
   "metadata": {},
   "outputs": [],
   "source": [
    "df['num_powerup_left'] = np.maximum(0, np.subtract(4, np.floor_divide(df['level'], 3)))\n",
    "df['num_powerup_used'] = np.minimum(4, np.floor_divide(df['level'], 3))\n",
    "\n",
    "\n",
    "df['num_powerup_incsub'] = df['quality'].map({'Unknown': 0, 'Rare': 2, 'Hero': 3, 'Legend': 4})\n",
    "\n",
    "df['num_powerup_incsub_left'] = np.maximum(np.subtract(df['num_powerup_incsub'], df['num_powerup_used']) , 0)\n",
    "df['num_powerup_newsub_left'] = np.subtract(df['num_powerup_left'], df['num_powerup_incsub_left'] )"
   ]
  },
  {
   "cell_type": "code",
   "execution_count": 64,
   "metadata": {},
   "outputs": [],
   "source": [
    "# From increasing current substats:\n",
    "# if spd is an increasable substat, then assume all rolls go there\n",
    "# otherwise assume all rolls go to not-good stats\n",
    "# TODO this roll could possibly only go to a bad stat (as per norm), not a good one. account for this\n",
    "\n",
    "df['sub_inc_max_norm'] = (df['num_powerup_incsub_left']*2).where(~df['sub_spd'].isna(), df['num_powerup_incsub_left'])\n",
    "\n",
    "# assume these are all going to bad stats.\n",
    "# (even if speed is rollable, probability of going to spd is...low and not worth)\n",
    "# TODO consider like max vs expected. this straddles the line somewhere\n",
    "df['sub_new_max_norm'] = df['num_powerup_newsub_left']"
   ]
  },
  {
   "cell_type": "code",
   "execution_count": 65,
   "metadata": {},
   "outputs": [],
   "source": [
    "# and now sum for the \"max\" roll eff\n",
    "cols = ['tot_sum_norm', 'sub_inc_max_norm', 'sub_new_max_norm']\n",
    "\n",
    "df['tot_max_norm'] = df[cols].sum(axis=1)"
   ]
  },
  {
   "cell_type": "code",
   "execution_count": 66,
   "metadata": {},
   "outputs": [],
   "source": [
    "# worst cases:\n",
    "# TODO due to the chance of flat rolls, this is lower.\n",
    "# also like account for inc rolls can only be present stats; new rolls can only be one of each (not double-up into bad roll)\n",
    "df['sub_inc_min_norm'] = df['num_powerup_incsub_left'] * 0.5 # (0.5 is worstcase eff from a roll)\n",
    "df['sub_new_min_norm'] = df['num_powerup_newsub_left'] * 0.5\n",
    "cols = ['tot_sum_norm', 'sub_inc_min_norm', 'sub_new_min_norm']\n",
    "df['tot_min_norm'] = df[cols].sum(axis=1)"
   ]
  },
  {
   "cell_type": "code",
   "execution_count": 67,
   "metadata": {},
   "outputs": [
    {
     "name": "stdout",
     "output_type": "stream",
     "text": [
      "{'Violent': 'S', 'Swift': 'A', 'Will': 'A', 'Fatal': 'B+', 'Rage': 'B+', 'Vampire': 'B+', 'Despair': 'B+', 'Blade': 'B-', 'Focus': 'B-', 'Shield': 'B-', 'Nemesis': 'B-', 'Revenge': 'B-', 'Destroy': 'B-', 'Energy': 'C', 'Guard': 'C', 'Endure': 'C', 'Fight': 'C', 'Determination': 'C', 'Enhance': 'C', 'Accuracy': 'C', 'Tolerance': 'C'}\n"
     ]
    }
   ],
   "source": [
    "SETS_TO_TIERS = dict()\n",
    "for tier in TIERS_TO_SETS:\n",
    "    for set in TIERS_TO_SETS[tier]:\n",
    "        SETS_TO_TIERS[set] = tier\n",
    "print(SETS_TO_TIERS)\n",
    "\n",
    "df['tier'] = df['set'].apply(lambda x: SETS_TO_TIERS[x])\n",
    "\n",
    "# To scale to a normalized 0-to-1 scale\n",
    "# df['tot_max_norm'] = (df['tot_max_norm']/9.round(3)"
   ]
  },
  {
   "cell_type": "code",
   "execution_count": 68,
   "metadata": {},
   "outputs": [
    {
     "name": "stdout",
     "output_type": "stream",
     "text": [
      "tier S slot 1\n",
      "Sell runes below global cut or 0 eff\n",
      "Have 25 runes, goal 86; diff 61\n",
      "\n",
      "tier S slot 2\n",
      "Sell runes below global cut or 0 eff\n",
      "Have 9 runes, goal 171; diff 162\n",
      "\n",
      "tier S slot 3\n",
      "Sell runes below global cut or 0 eff\n",
      "Have 36 runes, goal 86; diff 50\n",
      "\n",
      "tier S slot 4\n",
      "Sell runes below global cut or 0 eff\n",
      "Have 15 runes, goal 304; diff 289\n",
      "\n",
      "tier S slot 5\n",
      "Sell runes below global cut or 0 eff\n",
      "Have 18 runes, goal 86; diff 68\n",
      "\n",
      "tier S slot 6\n",
      "Sell runes below global cut or 0 eff\n",
      "Have 16 runes, goal 304; diff 288\n",
      "\n",
      "tier A slot 1\n",
      "Sell runes below global cut or 0 eff\n",
      "Have 51 runes, goal 86; diff 35\n",
      "\n",
      "tier A slot 2\n",
      "Sell runes below global cut or 0 eff\n",
      "Have 13 runes, goal 171; diff 158\n",
      "\n",
      "tier A slot 3\n",
      "Sell runes below global cut or 6.19047619047619 eff\n",
      "Have 67 runes, goal 86; diff 19\n",
      "\n",
      "tier A slot 4\n",
      "Sell runes below global cut or 0 eff\n",
      "Have 31 runes, goal 304; diff 273\n",
      "\n",
      "tier A slot 5\n",
      "Sell runes below global cut or 0 eff\n",
      "Have 46 runes, goal 86; diff 40\n",
      "\n",
      "tier A slot 6\n",
      "Sell runes below global cut or 0 eff\n",
      "Have 23 runes, goal 304; diff 281\n",
      "\n",
      "tier B+ slot 1\n",
      "Sell runes below global cut or 7.166666666666667 eff\n",
      "Have 76 runes, goal 70; diff -6\n",
      "\n",
      "tier B+ slot 2\n",
      "Sell runes below global cut or 0 eff\n",
      "Have 9 runes, goal 138; diff 129\n",
      "\n",
      "tier B+ slot 3\n",
      "Sell runes below global cut or 7.333333333333334 eff\n",
      "Have 83 runes, goal 70; diff -13\n",
      "\n",
      "tier B+ slot 4\n",
      "Sell runes below global cut or 0 eff\n",
      "Have 29 runes, goal 245; diff 216\n",
      "\n",
      "tier B+ slot 5\n",
      "Sell runes below global cut or 6.565476190476191 eff\n",
      "Have 61 runes, goal 70; diff 9\n",
      "\n",
      "tier B+ slot 6\n",
      "Sell runes below global cut or 0 eff\n",
      "Have 26 runes, goal 245; diff 219\n",
      "\n",
      "tier B- slot 1\n",
      "Sell runes below global cut or 7.622999999999999 eff\n",
      "Have 64 runes, goal 56; diff -8\n",
      "\n",
      "tier B- slot 2\n",
      "Sell runes below global cut or 0 eff\n",
      "Have 29 runes, goal 112; diff 83\n",
      "\n",
      "tier B- slot 3\n",
      "Sell runes below global cut or 7.199333333333334 eff\n",
      "Have 67 runes, goal 56; diff -11\n",
      "\n",
      "tier B- slot 4\n",
      "Sell runes below global cut or 0 eff\n",
      "Have 40 runes, goal 198; diff 158\n",
      "\n",
      "tier B- slot 5\n",
      "Sell runes below global cut or 7.375 eff\n",
      "Have 60 runes, goal 56; diff -4\n",
      "\n",
      "tier B- slot 6\n",
      "Sell runes below global cut or 0 eff\n",
      "Have 37 runes, goal 198; diff 161\n",
      "\n",
      "tier C slot 1\n",
      "Sell runes below global cut or 8.095238095238095 eff\n",
      "Have 34 runes, goal 33; diff -1\n",
      "\n",
      "tier C slot 2\n",
      "Sell runes below global cut or 0 eff\n",
      "Have 20 runes, goal 66; diff 46\n",
      "\n",
      "tier C slot 3\n",
      "Sell runes below global cut or 7.755952380952381 eff\n",
      "Have 35 runes, goal 33; diff -2\n",
      "\n",
      "tier C slot 4\n",
      "Sell runes below global cut or 0 eff\n",
      "Have 26 runes, goal 117; diff 91\n",
      "\n",
      "tier C slot 5\n",
      "Sell runes below global cut or 7.75 eff\n",
      "Have 30 runes, goal 33; diff 3\n",
      "\n",
      "tier C slot 6\n",
      "Sell runes below global cut or 0 eff\n",
      "Have 27 runes, goal 117; diff 90\n",
      "\n"
     ]
    }
   ],
   "source": [
    "df['flag'] = False\n",
    "\n",
    "\n",
    "for tier in TIER_RATIOS.keys():\n",
    "    for slot in (1, 2, 3, 4, 5, 6):\n",
    "        print(f'tier {tier} slot {slot}')\n",
    "\n",
    "        goal_freq = int(GOAL_TOTAL * TIER_RATIOS[tier] * SLOT_RATIOS[slot])\n",
    "        cutoff_freq = int(goal_freq * CUTOFF_FACTOR)\n",
    "\n",
    "        mask_subset = (df['slot'] == slot) & (df['tier']==tier)\n",
    "\n",
    "        # Figure out how many runes to sell: \n",
    "        # this is tricky, as we want to keep _all_ speed runes \n",
    "        # (due to quirks w efficiency, importance of speed, etc)\n",
    "        # if not is_odd:\n",
    "        #     count_spd = sum(mask_subset & (df['m_t'] == 'SPD'))\n",
    "        #     cutoff_freq -= count_spd\n",
    "        #     goal_freq -= count_spd\n",
    "        #     mask_subset = mask_subset & (df['m_t'] != 'SPD')\n",
    "\n",
    "        # TODO: this keeps all speed runes and \n",
    "        # does NOT include them in the 3000 count, which is odd\n",
    "        mask_subset = mask_subset & (df['m_t'] != 'SPD')\n",
    "\n",
    "        df_subset = df[mask_subset]\n",
    "        df_subset = df_subset.sort_values(by=['tot_min_norm'], ascending=False)\n",
    "\n",
    "        if len(df_subset) < cutoff_freq:\n",
    "            # then want to keep everything. can't sell runes below the n'th-best if there aren't n total \n",
    "            # (effectively mark this by setting the \"sell if below\" threshold to 0)\n",
    "            eff_cutoff = 0\n",
    "        else:\n",
    "            # Calc cutoff, based on rune counts, and \"n-th\" best rune\n",
    "            rune_cutoff = df_subset.iloc[cutoff_freq-1]\n",
    "            eff_cutoff = rune_cutoff.tot_min_norm\n",
    "        # if eff cutoff less than global eff cutoff,\n",
    "        # then enforce global instead\n",
    "        print(f'Sell runes below global cut or {eff_cutoff} eff')\n",
    "        if eff_cutoff < GLOBAL_EFF_CUTOFF:\n",
    "            eff_cutoff = GLOBAL_EFF_CUTOFF\n",
    "\n",
    "        mask_subset_to_sell = (mask_subset & (df['tot_max_norm'] < eff_cutoff))\n",
    "        print(f'Have {sum(mask_subset)-sum(mask_subset_to_sell)} runes, goal {goal_freq}; diff {goal_freq-(sum(mask_subset)-sum(mask_subset_to_sell))}')\n",
    "\n",
    "        # flag runes in the subset, below the cutoff\n",
    "        # keep previous runes too as flagged ofc: flag builds\n",
    "        df['flag'] = (mask_subset_to_sell) | df['flag']\n",
    "\n",
    "        print()\n"
   ]
  },
  {
   "cell_type": "markdown",
   "metadata": {},
   "source": [
    "## Mark some runes for reapp\n",
    "\n",
    " [S-or-A tier and Original Legend and 246]"
   ]
  },
  {
   "cell_type": "code",
   "execution_count": 69,
   "metadata": {},
   "outputs": [],
   "source": [
    "mask_reapp_candidates = (df['tier'].isin(['S', 'A'])) & (df['quality']=='Legend') & (df['slot'].isin([2, 4, 6]))\n",
    "df['sell'] = df['flag'] & ~mask_reapp_candidates\n",
    "df['reapp'] = df['flag'] & mask_reapp_candidates"
   ]
  },
  {
   "cell_type": "markdown",
   "metadata": {},
   "source": [
    "# Export: format data"
   ]
  },
  {
   "cell_type": "code",
   "execution_count": 70,
   "metadata": {},
   "outputs": [],
   "source": [
    "cols_export = cols_original_clean\n",
    "cols_export = cols_export.append(pd.Index(['tot_sum_norm', 'tot_min_norm', 'tot_max_norm', 'tier', 'num_powerup_incsub_left', 'flag', 'sell', 'reapp']))\n",
    "df_export = df[cols_export]"
   ]
  },
  {
   "cell_type": "code",
   "execution_count": 71,
   "metadata": {},
   "outputs": [],
   "source": [
    "df_export = df_export.sort_values(['set', 'grade', 'slot'], ascending=[True, False, True])"
   ]
  },
  {
   "cell_type": "code",
   "execution_count": 72,
   "metadata": {},
   "outputs": [],
   "source": [
    "import datetime\n",
    "  \n",
    "# ct stores current time\n",
    "ct = datetime.datetime.now()\n",
    "ct = int(ct.timestamp())\n",
    "df_export.to_csv(f'runes-data-out-{str(ct)}.csv', sep='\\t')"
   ]
  },
  {
   "cell_type": "code",
   "execution_count": 73,
   "metadata": {},
   "outputs": [],
   "source": [
    "df_export_to_sell = df_export[df_export['sell']]\n",
    "df_export_to_sell.to_csv(f'runes-data-sell-{str(ct)}.csv', sep='\\t')\n",
    "\n",
    "df_export_to_reapp = df_export[df_export['reapp']]\n",
    "df_export_to_reapp.to_csv(f'runes-data-reapp-{str(ct)}.csv', sep='\\t')"
   ]
  }
 ],
 "metadata": {
  "kernelspec": {
   "display_name": "Python 3.10.4 ('6s079')",
   "language": "python",
   "name": "python3"
  },
  "language_info": {
   "codemirror_mode": {
    "name": "ipython",
    "version": 3
   },
   "file_extension": ".py",
   "mimetype": "text/x-python",
   "name": "python",
   "nbconvert_exporter": "python",
   "pygments_lexer": "ipython3",
   "version": "3.10.4"
  },
  "orig_nbformat": 4,
  "vscode": {
   "interpreter": {
    "hash": "98e05c05992e930807fe788f9aae80420ee99fb8a9e4a0ca0e84103c9a329069"
   }
  }
 },
 "nbformat": 4,
 "nbformat_minor": 2
}
